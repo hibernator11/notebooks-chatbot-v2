{
 "cells": [
  {
   "cell_type": "markdown",
   "metadata": {},
   "source": [
    "## ChatterBot \n",
    "\n",
    "ChatterBot es una librería para la creación de chatbots de forma sencilla\n",
    "https://pypi.org/project/ChatterBot/"
   ]
  },
  {
   "cell_type": "markdown",
   "metadata": {},
   "source": [
    "### Crear un nuevo chatbot"
   ]
  },
  {
   "cell_type": "code",
   "execution_count": 2,
   "metadata": {},
   "outputs": [],
   "source": [
    "from chatterbot import ChatBot\n",
    "chatbot = ChatBot(\"Gustavo Candela\")"
   ]
  },
  {
   "cell_type": "markdown",
   "metadata": {},
   "source": [
    "### Entrenando el chatbot"
   ]
  },
  {
   "cell_type": "code",
   "execution_count": 3,
   "metadata": {},
   "outputs": [
    {
     "name": "stdout",
     "output_type": "stream",
     "text": [
      "List Trainer: [####################] 100%\n"
     ]
    }
   ],
   "source": [
    "from chatterbot.trainers import ListTrainer\n",
    "\n",
    "conversation = [\n",
    "    \"Hello\",\n",
    "    \"Hi there!\",\n",
    "    \"How are you doing?\",\n",
    "    \"I'm doing great.\",\n",
    "    \"That is good to hear\",\n",
    "    \"Thank you.\",\n",
    "    \"You're welcome.\"\n",
    "]\n",
    "\n",
    "trainer = ListTrainer(chatbot)\n",
    "\n",
    "trainer.train(conversation)"
   ]
  },
  {
   "cell_type": "markdown",
   "metadata": {},
   "source": [
    "### Respuesta"
   ]
  },
  {
   "cell_type": "code",
   "execution_count": 4,
   "metadata": {},
   "outputs": [
    {
     "name": "stdout",
     "output_type": "stream",
     "text": [
      "Hello\n"
     ]
    }
   ],
   "source": [
    "response = chatbot.get_response(\"Good morning!\")\n",
    "print(response)"
   ]
  },
  {
   "cell_type": "markdown",
   "metadata": {},
   "source": [
    "### Utilizar un adaptador de base de datos\n",
    "\n",
    "https://chatterbot.readthedocs.io/en/stable/tutorial.html#getting-help"
   ]
  },
  {
   "cell_type": "code",
   "execution_count": 7,
   "metadata": {},
   "outputs": [],
   "source": [
    "dbbot = ChatBot(\n",
    "    'Norman',\n",
    "    storage_adapter='chatterbot.storage.SQLStorageAdapter',\n",
    "    database_uri='sqlite:///database.sqlite3'\n",
    ")"
   ]
  },
  {
   "cell_type": "code",
   "execution_count": null,
   "metadata": {},
   "outputs": [],
   "source": [
    "### Entrenamos dbbot"
   ]
  },
  {
   "cell_type": "code",
   "execution_count": 12,
   "metadata": {},
   "outputs": [
    {
     "name": "stdout",
     "output_type": "stream",
     "text": [
      "List Trainer: [####################] 100%\n"
     ]
    }
   ],
   "source": [
    "conversation = [\n",
    "    \"Hello\",\n",
    "    \"Hi there!\",\n",
    "    \"How are you doing?\",\n",
    "    \"I'm doing great.\",\n",
    "    \"That is good to hear\",\n",
    "    \"Thank you.\",\n",
    "    \"You're welcome.\"\n",
    "]\n",
    "\n",
    "trainer = ListTrainer(dbbot)\n",
    "\n",
    "trainer.train(conversation)"
   ]
  },
  {
   "cell_type": "markdown",
   "metadata": {},
   "source": [
    "## Tras entrenar botdb podemos consultar a la base de datos:"
   ]
  },
  {
   "cell_type": "code",
   "execution_count": 16,
   "metadata": {},
   "outputs": [
    {
     "name": "stdout",
     "output_type": "stream",
     "text": [
      "[('tag',), ('statement',), ('tag_association',)]\n",
      "[(1, 'Hello', 'hello', 'training', '2021-10-03 11:33:42.115335', None, '', ''), (2, 'Hi there!', 'INTJ:there', 'training', '2021-10-03 11:33:42.150242', 'Hello', 'hello', ''), (3, 'How are you doing?', 'ADV:be VERB:-pron- PRON:do', 'training', '2021-10-03 11:33:42.170203', 'Hi there!', 'INTJ:there', ''), (4, \"I'm doing great.\", 'PRON:great', 'training', '2021-10-03 11:33:42.191278', 'How are you doing?', 'ADV:be VERB:-pron- PRON:do', ''), (5, 'That is good to hear', 'DET:good ADJ:hear', 'training', '2021-10-03 11:33:42.214278', \"I'm doing great.\", 'PRON:great', ''), (6, 'Thank you.', 'VERB:-pron-', 'training', '2021-10-03 11:33:42.226774', 'That is good to hear', 'DET:good ADJ:hear', ''), (7, \"You're welcome.\", 'PRON:welcome', 'training', '2021-10-03 11:33:42.252630', 'Thank you.', 'VERB:-pron-', '')]\n"
     ]
    }
   ],
   "source": [
    "import sqlite3\n",
    "con = sqlite3.connect('database.sqlite3')\n",
    "cursor = con.cursor()\n",
    "cursor.execute(\"SELECT name FROM sqlite_master WHERE type='table';\")\n",
    "print(cursor.fetchall())\n",
    "\n",
    "cursor = con.cursor()\n",
    "cursor.execute(\"SELECT * FROM statement;\")\n",
    "print(cursor.fetchall())"
   ]
  },
  {
   "cell_type": "markdown",
   "metadata": {},
   "source": [
    "### También podemos utilizar modelos entrenados que se encuentran disponibles para su uso"
   ]
  },
  {
   "cell_type": "code",
   "execution_count": 17,
   "metadata": {},
   "outputs": [],
   "source": [
    "bot = ChatBot(\n",
    "    'Norman',\n",
    "    storage_adapter='chatterbot.storage.SQLStorageAdapter',\n",
    "    logic_adapters=[\n",
    "        'chatterbot.logic.MathematicalEvaluation',\n",
    "        'chatterbot.logic.TimeLogicAdapter'\n",
    "    ],\n",
    "    database_uri='sqlite:///database.sqlite3'\n",
    ")"
   ]
  },
  {
   "cell_type": "code",
   "execution_count": null,
   "metadata": {},
   "outputs": [
    {
     "name": "stdout",
     "output_type": "stream",
     "text": [
      "1 plus 1?\n",
      "1 plus 1 = 2\n",
      "1 minus 2?\n",
      "1 minus 2 = -1\n",
      "what time is it?\n",
      "The current time is 11:49 AM\n"
     ]
    }
   ],
   "source": [
    "while True:\n",
    "    try:\n",
    "        bot_input = bot.get_response(input())\n",
    "        print(bot_input)\n",
    "\n",
    "    except(KeyboardInterrupt, EOFError, SystemExit):\n",
    "        break"
   ]
  },
  {
   "cell_type": "markdown",
   "metadata": {},
   "source": [
    "https://github.com/gunthercox/chatterbot-corpus\n",
    "https://github.com/gunthercox/chatterbot-corpus/tree/master/chatterbot_corpus/data"
   ]
  },
  {
   "cell_type": "code",
   "execution_count": null,
   "metadata": {},
   "outputs": [],
   "source": [
    "chatbot = ChatBot(\n",
    "\n",
    "    'EjemploBot',\n",
    "\n",
    "    trainer='chatterbot.trainers.ChatterBotCorpusTrainer'\n",
    "\n",
    ")"
   ]
  },
  {
   "cell_type": "code",
   "execution_count": null,
   "metadata": {},
   "outputs": [],
   "source": [
    "trainer = ListTrainer(chatbot)\n",
    "trainer.train(\"chatterbot.corpus.spanish\")\n",
    "\n",
    "# Ejemplo de conversación\n",
    "\n",
    "while True:\n",
    "\n",
    "    usuario = input(\">>> \")\n",
    "\n",
    "respuesta = chatbot.get_response(usuario)\n",
    "\n",
    "print (\"bot: \"+str(respuesta))"
   ]
  },
  {
   "cell_type": "code",
   "execution_count": null,
   "metadata": {},
   "outputs": [],
   "source": []
  }
 ],
 "metadata": {
  "kernelspec": {
   "display_name": "Python 3",
   "language": "python",
   "name": "python3"
  },
  "language_info": {
   "codemirror_mode": {
    "name": "ipython",
    "version": 3
   },
   "file_extension": ".py",
   "mimetype": "text/x-python",
   "name": "python",
   "nbconvert_exporter": "python",
   "pygments_lexer": "ipython3",
   "version": "3.6.9"
  }
 },
 "nbformat": 4,
 "nbformat_minor": 4
}
