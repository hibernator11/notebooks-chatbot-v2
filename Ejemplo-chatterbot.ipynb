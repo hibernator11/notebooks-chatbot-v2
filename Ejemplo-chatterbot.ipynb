{
 "cells": [
  {
   "cell_type": "markdown",
   "metadata": {},
   "source": [
    "## ChatterBot \n",
    "\n",
    "ChatterBot es una librería para la creación de chatbots de forma sencilla\n",
    "https://pypi.org/project/ChatterBot/"
   ]
  },
  {
   "cell_type": "markdown",
   "metadata": {},
   "source": [
    "### Crear un nuevo chatbot"
   ]
  },
  {
   "cell_type": "code",
   "execution_count": 11,
   "metadata": {},
   "outputs": [
    {
     "name": "stdout",
     "output_type": "stream",
     "text": [
      "\r\n",
      "\u001b[38;5;1m✘ Link 'en' already exists\u001b[0m\r\n",
      "To overwrite an existing link, use the --force flag\r\n",
      "\r\n"
     ]
    }
   ],
   "source": [
    "from chatterbot import ChatBot\n",
    "import spacy \n",
    "#spacy.cli.download(\"en_core_web_sm\")\n",
    "#spacy.cli.download(\"en\")\n",
    "#spacy.load('en_core_web_sm')\n",
    "spacy.load(\"en\")\n",
    "!python -m spacy link en_core_web_sm en\n",
    "\n",
    "chatbot = ChatBot(\"Gustavo Candela\")"
   ]
  },
  {
   "cell_type": "markdown",
   "metadata": {},
   "source": [
    "### Entrenando el chatbot"
   ]
  },
  {
   "cell_type": "code",
   "execution_count": 12,
   "metadata": {},
   "outputs": [
    {
     "name": "stdout",
     "output_type": "stream",
     "text": [
      "List Trainer: [####################] 100%\n"
     ]
    }
   ],
   "source": [
    "from chatterbot.trainers import ListTrainer\n",
    "\n",
    "conversation = [\n",
    "    \"Hello\",\n",
    "    \"Hi there!\",\n",
    "    \"How are you doing?\",\n",
    "    \"I'm doing great.\",\n",
    "    \"That is good to hear\",\n",
    "    \"Thank you.\",\n",
    "    \"You're welcome.\"\n",
    "]\n",
    "\n",
    "trainer = ListTrainer(chatbot)\n",
    "\n",
    "trainer.train(conversation)"
   ]
  },
  {
   "cell_type": "markdown",
   "metadata": {},
   "source": [
    "### Respuesta"
   ]
  },
  {
   "cell_type": "code",
   "execution_count": 13,
   "metadata": {},
   "outputs": [
    {
     "name": "stdout",
     "output_type": "stream",
     "text": [
      "Hi there!\n"
     ]
    }
   ],
   "source": [
    "response = chatbot.get_response(\"Hello!\")\n",
    "print(response)"
   ]
  },
  {
   "cell_type": "markdown",
   "metadata": {},
   "source": [
    "### Utilizar un adaptador de base de datos\n",
    "\n",
    "https://chatterbot.readthedocs.io/en/stable/tutorial.html#getting-help"
   ]
  },
  {
   "cell_type": "code",
   "execution_count": 14,
   "metadata": {},
   "outputs": [],
   "source": [
    "dbbot = ChatBot(\n",
    "    'Norman',\n",
    "    storage_adapter='chatterbot.storage.SQLStorageAdapter',\n",
    "    database_uri='sqlite:///database.sqlite3'\n",
    ")"
   ]
  },
  {
   "cell_type": "markdown",
   "metadata": {},
   "source": [
    "### Entrenamos dbbot"
   ]
  },
  {
   "cell_type": "code",
   "execution_count": 15,
   "metadata": {},
   "outputs": [
    {
     "name": "stdout",
     "output_type": "stream",
     "text": [
      "List Trainer: [####################] 100%\n"
     ]
    }
   ],
   "source": [
    "conversation = [\n",
    "    \"Hello\",\n",
    "    \"Hi there!\",\n",
    "    \"How are you doing?\",\n",
    "    \"I'm doing great.\",\n",
    "    \"That is good to hear\",\n",
    "    \"Thank you.\",\n",
    "    \"You're welcome.\"\n",
    "]\n",
    "\n",
    "trainer = ListTrainer(dbbot)\n",
    "\n",
    "trainer.train(conversation)"
   ]
  },
  {
   "cell_type": "markdown",
   "metadata": {},
   "source": [
    "## Tras entrenar botdb podemos consultar a la base de datos:"
   ]
  },
  {
   "cell_type": "code",
   "execution_count": 16,
   "metadata": {},
   "outputs": [
    {
     "name": "stdout",
     "output_type": "stream",
     "text": [
      "[('tag',), ('statement',), ('tag_association',)]\n",
      "[(1, 'Hello', 'hello', 'training', '2021-10-17 11:32:32.839219', None, '', ''), (2, 'Hi there!', 'INTJ:there', 'training', '2021-10-17 11:32:32.879364', 'Hello', 'hello', ''), (3, 'How are you doing?', 'ADV:be VERB:-pron- PRON:do', 'training', '2021-10-17 11:32:32.900435', 'Hi there!', 'INTJ:there', ''), (4, \"I'm doing great.\", 'PRON:great', 'training', '2021-10-17 11:32:32.923041', 'How are you doing?', 'ADV:be VERB:-pron- PRON:do', ''), (5, 'That is good to hear', 'DET:good ADJ:hear', 'training', '2021-10-17 11:32:32.943188', \"I'm doing great.\", 'PRON:great', ''), (6, 'Thank you.', 'VERB:-pron-', 'training', '2021-10-17 11:32:32.962156', 'That is good to hear', 'DET:good ADJ:hear', ''), (7, \"You're welcome.\", 'PRON:welcome', 'training', '2021-10-17 11:32:32.981413', 'Thank you.', 'VERB:-pron-', ''), (8, 'What time is it?', 'ADJ:time', '', '2021-10-17 11:33:03.708965', None, '', ''), (9, 'The current time is 11:33 AM', '', '', '2021-10-17 11:33:03.740707', 'What time is it?', '', 'bot:Norman'), (10, '1 plus 1?', '1 plus 1 ?', '', '2021-10-17 11:33:03.753446', 'What time is it?', '', ''), (11, '1 plus 1 = 2', '', '', '2021-10-17 11:33:03.765525', '1 plus 1?', '', 'bot:Norman'), (12, 'Hello', 'hello', 'training', '2023-09-28 19:12:45.388078', None, '', ''), (13, 'Hi there!', 'INTJ:there', 'training', '2023-09-28 19:12:45.394504', 'Hello', 'hello', ''), (14, 'How are you doing?', 'ADV:be VERB:-pron- PRON:do', 'training', '2023-09-28 19:12:45.398332', 'Hi there!', 'INTJ:there', ''), (15, \"I'm doing great.\", 'PRON:do VERB:great', 'training', '2023-09-28 19:12:45.401817', 'How are you doing?', 'ADV:be VERB:-pron- PRON:do', ''), (16, 'That is good to hear', 'ADJ:hear', 'training', '2023-09-28 19:12:45.405271', \"I'm doing great.\", 'PRON:do VERB:great', ''), (17, 'Thank you.', 'VERB:-pron-', 'training', '2023-09-28 19:12:45.409102', 'That is good to hear', 'ADJ:hear', ''), (18, \"You're welcome.\", 'PRON:welcome', 'training', '2023-09-28 19:12:45.412326', 'Thank you.', 'VERB:-pron-', ''), (19, 'Hello', 'hello', 'training', '2023-09-28 19:13:39.358701', None, '', ''), (20, 'Hi there!', 'INTJ:there', 'training', '2023-09-28 19:13:39.363120', 'Hello', 'hello', ''), (21, 'How are you doing?', 'ADV:be VERB:-pron- PRON:do', 'training', '2023-09-28 19:13:39.367646', 'Hi there!', 'INTJ:there', ''), (22, \"I'm doing great.\", 'PRON:do VERB:great', 'training', '2023-09-28 19:13:39.371629', 'How are you doing?', 'ADV:be VERB:-pron- PRON:do', ''), (23, 'That is good to hear', 'ADJ:hear', 'training', '2023-09-28 19:13:39.375672', \"I'm doing great.\", 'PRON:do VERB:great', ''), (24, 'Thank you.', 'VERB:-pron-', 'training', '2023-09-28 19:13:39.380142', 'That is good to hear', 'ADJ:hear', ''), (25, \"You're welcome.\", 'PRON:welcome', 'training', '2023-09-28 19:13:39.384376', 'Thank you.', 'VERB:-pron-', '')]\n"
     ]
    }
   ],
   "source": [
    "import sqlite3\n",
    "con = sqlite3.connect('database.sqlite3')\n",
    "cursor = con.cursor()\n",
    "cursor.execute(\"SELECT name FROM sqlite_master WHERE type='table';\")\n",
    "print(cursor.fetchall())\n",
    "\n",
    "cursor = con.cursor()\n",
    "cursor.execute(\"SELECT * FROM statement;\")\n",
    "print(cursor.fetchall())"
   ]
  },
  {
   "cell_type": "markdown",
   "metadata": {},
   "source": [
    "### También podemos utilizar modelos entrenados que se encuentran disponibles para su uso"
   ]
  },
  {
   "cell_type": "code",
   "execution_count": 17,
   "metadata": {},
   "outputs": [],
   "source": [
    "bot = ChatBot(\n",
    "    'Norman',\n",
    "    storage_adapter='chatterbot.storage.SQLStorageAdapter',\n",
    "    logic_adapters=[\n",
    "        'chatterbot.logic.MathematicalEvaluation',\n",
    "        'chatterbot.logic.TimeLogicAdapter'\n",
    "    ],\n",
    "    database_uri='sqlite:///database.sqlite3'\n",
    ")"
   ]
  },
  {
   "cell_type": "code",
   "execution_count": 18,
   "metadata": {},
   "outputs": [
    {
     "name": "stdout",
     "output_type": "stream",
     "text": [
      "The current time is 07:13 PM\n",
      "1 plus 1 = 2\n"
     ]
    }
   ],
   "source": [
    "bot_input = bot.get_response(\"What time is it?\")\n",
    "print(bot_input)\n",
    "bot_input = bot.get_response(\"1 plus 1?\")\n",
    "print(bot_input)"
   ]
  },
  {
   "cell_type": "code",
   "execution_count": null,
   "metadata": {},
   "outputs": [],
   "source": []
  }
 ],
 "metadata": {
  "kernelspec": {
   "display_name": "Python 3 (ipykernel)",
   "language": "python",
   "name": "python3"
  },
  "language_info": {
   "codemirror_mode": {
    "name": "ipython",
    "version": 3
   },
   "file_extension": ".py",
   "mimetype": "text/x-python",
   "name": "python",
   "nbconvert_exporter": "python",
   "pygments_lexer": "ipython3",
   "version": "3.11.4"
  }
 },
 "nbformat": 4,
 "nbformat_minor": 4
}
