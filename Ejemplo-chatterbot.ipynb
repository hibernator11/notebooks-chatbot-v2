{
 "cells": [
  {
   "cell_type": "markdown",
   "metadata": {},
   "source": [
    "## ChatterBot \n",
    "\n",
    "ChatterBot es una librería para la creación de chatbots de forma sencilla\n",
    "https://pypi.org/project/ChatterBot/"
   ]
  },
  {
   "cell_type": "markdown",
   "metadata": {},
   "source": [
    "### Crear un nuevo chatbot"
   ]
  },
  {
   "cell_type": "code",
   "execution_count": 1,
   "metadata": {},
   "outputs": [],
   "source": [
    "from chatterbot import ChatBot\n",
    "chatbot = ChatBot(\"Gustavo Candela\")"
   ]
  },
  {
   "cell_type": "markdown",
   "metadata": {},
   "source": [
    "### Entrenando el chatbot"
   ]
  },
  {
   "cell_type": "code",
   "execution_count": 2,
   "metadata": {},
   "outputs": [
    {
     "name": "stdout",
     "output_type": "stream",
     "text": [
      "List Trainer: [####################] 100%\n"
     ]
    }
   ],
   "source": [
    "from chatterbot.trainers import ListTrainer\n",
    "\n",
    "conversation = [\n",
    "    \"Hello\",\n",
    "    \"Hi there!\",\n",
    "    \"How are you doing?\",\n",
    "    \"I'm doing great.\",\n",
    "    \"That is good to hear\",\n",
    "    \"Thank you.\",\n",
    "    \"You're welcome.\"\n",
    "]\n",
    "\n",
    "trainer = ListTrainer(chatbot)\n",
    "\n",
    "trainer.train(conversation)"
   ]
  },
  {
   "cell_type": "markdown",
   "metadata": {},
   "source": [
    "### Respuesta"
   ]
  },
  {
   "cell_type": "code",
   "execution_count": 3,
   "metadata": {},
   "outputs": [
    {
     "name": "stdout",
     "output_type": "stream",
     "text": [
      "That is good to hear\n"
     ]
    }
   ],
   "source": [
    "response = chatbot.get_response(\"Good morning!\")\n",
    "print(response)"
   ]
  },
  {
   "cell_type": "markdown",
   "metadata": {},
   "source": [
    "### Utilizar un adaptador de base de datos\n",
    "\n",
    "https://chatterbot.readthedocs.io/en/stable/tutorial.html#getting-help"
   ]
  },
  {
   "cell_type": "code",
   "execution_count": 4,
   "metadata": {},
   "outputs": [],
   "source": [
    "dbbot = ChatBot(\n",
    "    'Norman',\n",
    "    storage_adapter='chatterbot.storage.SQLStorageAdapter',\n",
    "    database_uri='sqlite:///database.sqlite3'\n",
    ")"
   ]
  },
  {
   "cell_type": "markdown",
   "metadata": {},
   "source": [
    "### Entrenamos dbbot"
   ]
  },
  {
   "cell_type": "code",
   "execution_count": 5,
   "metadata": {},
   "outputs": [
    {
     "name": "stdout",
     "output_type": "stream",
     "text": [
      "List Trainer: [####################] 100%\n"
     ]
    }
   ],
   "source": [
    "conversation = [\n",
    "    \"Hello\",\n",
    "    \"Hi there!\",\n",
    "    \"How are you doing?\",\n",
    "    \"I'm doing great.\",\n",
    "    \"That is good to hear\",\n",
    "    \"Thank you.\",\n",
    "    \"You're welcome.\"\n",
    "]\n",
    "\n",
    "trainer = ListTrainer(dbbot)\n",
    "\n",
    "trainer.train(conversation)"
   ]
  },
  {
   "cell_type": "markdown",
   "metadata": {},
   "source": [
    "## Tras entrenar botdb podemos consultar a la base de datos:"
   ]
  },
  {
   "cell_type": "code",
   "execution_count": 6,
   "metadata": {},
   "outputs": [
    {
     "name": "stdout",
     "output_type": "stream",
     "text": [
      "[('tag',), ('statement',), ('tag_association',)]\n",
      "[(1, 'Hello', 'hello', 'training', '2021-10-03 11:33:42.115335', None, '', ''), (2, 'Hi there!', 'INTJ:there', 'training', '2021-10-03 11:33:42.150242', 'Hello', 'hello', ''), (3, 'How are you doing?', 'ADV:be VERB:-pron- PRON:do', 'training', '2021-10-03 11:33:42.170203', 'Hi there!', 'INTJ:there', ''), (4, \"I'm doing great.\", 'PRON:great', 'training', '2021-10-03 11:33:42.191278', 'How are you doing?', 'ADV:be VERB:-pron- PRON:do', ''), (5, 'That is good to hear', 'DET:good ADJ:hear', 'training', '2021-10-03 11:33:42.214278', \"I'm doing great.\", 'PRON:great', ''), (6, 'Thank you.', 'VERB:-pron-', 'training', '2021-10-03 11:33:42.226774', 'That is good to hear', 'DET:good ADJ:hear', ''), (7, \"You're welcome.\", 'PRON:welcome', 'training', '2021-10-03 11:33:42.252630', 'Thank you.', 'VERB:-pron-', ''), (8, '1 plus 1?', '1 plus 1 ?', '', '2021-10-03 11:49:20.521138', None, '', ''), (9, '1 plus 1 = 2', '', '', '2021-10-03 11:49:20.544592', '1 plus 1?', '', 'bot:Norman'), (10, '1 minus 2?', '1 minus 2 ?', '', '2021-10-03 11:49:32.375356', '1 plus 1?', '', ''), (11, '1 minus 2 = -1', '', '', '2021-10-03 11:49:32.486869', '1 minus 2?', '', 'bot:Norman'), (12, 'what time is it?', 'ADJ:time NOUN:be VERB:-pron-', '', '2021-10-03 11:49:38.715935', '1 minus 2?', '', ''), (13, 'The current time is 11:49 AM', '', '', '2021-10-03 11:49:38.830029', 'what time is it?', '', 'bot:Norman'), (14, 'Hello', 'hello', 'training', '2021-10-03 21:04:45.559100', None, '', ''), (15, 'Hi there!', 'INTJ:there', 'training', '2021-10-03 21:04:45.580189', 'Hello', 'hello', ''), (16, 'How are you doing?', 'ADV:be VERB:-pron- PRON:do', 'training', '2021-10-03 21:04:45.600746', 'Hi there!', 'INTJ:there', ''), (17, \"I'm doing great.\", 'PRON:great', 'training', '2021-10-03 21:04:45.622621', 'How are you doing?', 'ADV:be VERB:-pron- PRON:do', ''), (18, 'That is good to hear', 'DET:good ADJ:hear', 'training', '2021-10-03 21:04:45.643548', \"I'm doing great.\", 'PRON:great', ''), (19, 'Thank you.', 'VERB:-pron-', 'training', '2021-10-03 21:04:45.663156', 'That is good to hear', 'DET:good ADJ:hear', ''), (20, \"You're welcome.\", 'PRON:welcome', 'training', '2021-10-03 21:04:45.683008', 'Thank you.', 'VERB:-pron-', ''), (21, 'Hello', 'hello', 'training', '2021-10-03 21:04:55.873437', None, '', ''), (22, 'Hi there!', 'INTJ:there', 'training', '2021-10-03 21:04:55.899091', 'Hello', 'hello', ''), (23, 'How are you doing?', 'ADV:be VERB:-pron- PRON:do', 'training', '2021-10-03 21:04:55.917556', 'Hi there!', 'INTJ:there', ''), (24, \"I'm doing great.\", 'PRON:great', 'training', '2021-10-03 21:04:55.933400', 'How are you doing?', 'ADV:be VERB:-pron- PRON:do', ''), (25, 'That is good to hear', 'DET:good ADJ:hear', 'training', '2021-10-03 21:04:55.955328', \"I'm doing great.\", 'PRON:great', ''), (26, 'Thank you.', 'VERB:-pron-', 'training', '2021-10-03 21:04:55.975710', 'That is good to hear', 'DET:good ADJ:hear', ''), (27, \"You're welcome.\", 'PRON:welcome', 'training', '2021-10-03 21:04:55.995655', 'Thank you.', 'VERB:-pron-', ''), (28, 'Hello', 'hello', 'training', '2021-10-03 21:07:15.532086', None, '', ''), (29, 'Hi there!', 'INTJ:there', 'training', '2021-10-03 21:07:15.573625', 'Hello', 'hello', ''), (30, 'How are you doing?', 'ADV:be VERB:-pron- PRON:do', 'training', '2021-10-03 21:07:15.596529', 'Hi there!', 'INTJ:there', ''), (31, \"I'm doing great.\", 'PRON:great', 'training', '2021-10-03 21:07:15.618300', 'How are you doing?', 'ADV:be VERB:-pron- PRON:do', ''), (32, 'That is good to hear', 'DET:good ADJ:hear', 'training', '2021-10-03 21:07:15.639860', \"I'm doing great.\", 'PRON:great', ''), (33, 'Thank you.', 'VERB:-pron-', 'training', '2021-10-03 21:07:15.659524', 'That is good to hear', 'DET:good ADJ:hear', ''), (34, \"You're welcome.\", 'PRON:welcome', 'training', '2021-10-03 21:07:15.681031', 'Thank you.', 'VERB:-pron-', ''), (35, 'Hello', 'hello', 'training', '2021-10-03 21:08:31.789941', None, '', ''), (36, 'Hi there!', 'INTJ:there', 'training', '2021-10-03 21:08:31.813596', 'Hello', 'hello', ''), (37, 'How are you doing?', 'ADV:be VERB:-pron- PRON:do', 'training', '2021-10-03 21:08:31.834360', 'Hi there!', 'INTJ:there', ''), (38, \"I'm doing great.\", 'PRON:great', 'training', '2021-10-03 21:08:31.857130', 'How are you doing?', 'ADV:be VERB:-pron- PRON:do', ''), (39, 'That is good to hear', 'DET:good ADJ:hear', 'training', '2021-10-03 21:08:31.879922', \"I'm doing great.\", 'PRON:great', ''), (40, 'Thank you.', 'VERB:-pron-', 'training', '2021-10-03 21:08:31.901177', 'That is good to hear', 'DET:good ADJ:hear', ''), (41, \"You're welcome.\", 'PRON:welcome', 'training', '2021-10-03 21:08:31.921073', 'Thank you.', 'VERB:-pron-', ''), (42, 'Hello', 'hello', 'training', '2021-10-03 21:11:14.558076', None, '', ''), (43, 'Hi there!', 'INTJ:there', 'training', '2021-10-03 21:11:14.589351', 'Hello', 'hello', ''), (44, 'How are you doing?', 'ADV:be VERB:-pron- PRON:do', 'training', '2021-10-03 21:11:14.622837', 'Hi there!', 'INTJ:there', ''), (45, \"I'm doing great.\", 'PRON:great', 'training', '2021-10-03 21:11:14.645380', 'How are you doing?', 'ADV:be VERB:-pron- PRON:do', ''), (46, 'That is good to hear', 'DET:good ADJ:hear', 'training', '2021-10-03 21:11:14.668188', \"I'm doing great.\", 'PRON:great', ''), (47, 'Thank you.', 'VERB:-pron-', 'training', '2021-10-03 21:11:14.689578', 'That is good to hear', 'DET:good ADJ:hear', ''), (48, \"You're welcome.\", 'PRON:welcome', 'training', '2021-10-03 21:11:14.711281', 'Thank you.', 'VERB:-pron-', '')]\n"
     ]
    }
   ],
   "source": [
    "import sqlite3\n",
    "con = sqlite3.connect('database.sqlite3')\n",
    "cursor = con.cursor()\n",
    "cursor.execute(\"SELECT name FROM sqlite_master WHERE type='table';\")\n",
    "print(cursor.fetchall())\n",
    "\n",
    "cursor = con.cursor()\n",
    "cursor.execute(\"SELECT * FROM statement;\")\n",
    "print(cursor.fetchall())"
   ]
  },
  {
   "cell_type": "markdown",
   "metadata": {},
   "source": [
    "### También podemos utilizar modelos entrenados que se encuentran disponibles para su uso"
   ]
  },
  {
   "cell_type": "code",
   "execution_count": 7,
   "metadata": {},
   "outputs": [],
   "source": [
    "bot = ChatBot(\n",
    "    'Norman',\n",
    "    storage_adapter='chatterbot.storage.SQLStorageAdapter',\n",
    "    logic_adapters=[\n",
    "        'chatterbot.logic.MathematicalEvaluation',\n",
    "        'chatterbot.logic.TimeLogicAdapter'\n",
    "    ],\n",
    "    database_uri='sqlite:///database.sqlite3'\n",
    ")"
   ]
  },
  {
   "cell_type": "code",
   "execution_count": 8,
   "metadata": {},
   "outputs": [
    {
     "name": "stdout",
     "output_type": "stream",
     "text": [
      "The current time is 09:11 PM\n",
      "1 plus 1 = 2\n"
     ]
    }
   ],
   "source": [
    "bot_input = bot.get_response(\"What time is it?\")\n",
    "print(bot_input)\n",
    "bot_input = bot.get_response(\"1 plus 1?\")\n",
    "print(bot_input)"
   ]
  },
  {
   "cell_type": "markdown",
   "metadata": {},
   "source": [
    "https://github.com/gunthercox/chatterbot-corpus\n",
    "https://github.com/gunthercox/chatterbot-corpus/tree/master/chatterbot_corpus/data"
   ]
  },
  {
   "cell_type": "code",
   "execution_count": 9,
   "metadata": {},
   "outputs": [],
   "source": [
    "chatbot = ChatBot(\n",
    "    'EjemploBot',\n",
    "    trainer='chatterbot.trainers.ChatterBotCorpusTrainer'\n",
    ")"
   ]
  },
  {
   "cell_type": "code",
   "execution_count": 10,
   "metadata": {},
   "outputs": [
    {
     "name": "stdout",
     "output_type": "stream",
     "text": [
      "List Trainer: [####################] 100%\n",
      "c\n"
     ]
    }
   ],
   "source": [
    "trainer = ListTrainer(chatbot)\n",
    "trainer.train(\"chatterbot.corpus.spanish\")\n",
    "\n"
   ]
  },
  {
   "cell_type": "code",
   "execution_count": 13,
   "metadata": {},
   "outputs": [
    {
     "name": "stdout",
     "output_type": "stream",
     "text": [
      "p\n"
     ]
    }
   ],
   "source": [
    "# Ejemplo de conversación\n",
    "bot_input = chatbot.get_response(\"qué tal?\")\n",
    "print(bot_input)"
   ]
  },
  {
   "cell_type": "code",
   "execution_count": null,
   "metadata": {},
   "outputs": [],
   "source": []
  }
 ],
 "metadata": {
  "kernelspec": {
   "display_name": "Python 3",
   "language": "python",
   "name": "python3"
  },
  "language_info": {
   "codemirror_mode": {
    "name": "ipython",
    "version": 3
   },
   "file_extension": ".py",
   "mimetype": "text/x-python",
   "name": "python",
   "nbconvert_exporter": "python",
   "pygments_lexer": "ipython3",
   "version": "3.6.9"
  }
 },
 "nbformat": 4,
 "nbformat_minor": 4
}
