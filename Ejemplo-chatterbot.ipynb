{
 "cells": [
  {
   "cell_type": "markdown",
   "metadata": {},
   "source": [
    "## ChatterBot \n",
    "\n",
    "ChatterBot es una librería para la creación de chatbots de forma sencilla\n",
    "https://pypi.org/project/ChatterBot/"
   ]
  },
  {
   "cell_type": "markdown",
   "metadata": {},
   "source": [
    "### Crear un nuevo chatbot"
   ]
  },
  {
   "cell_type": "code",
   "execution_count": 2,
   "metadata": {},
   "outputs": [
    {
     "name": "stdout",
     "output_type": "stream",
     "text": [
      "\n",
      "\u001b[93m    Linking successful\u001b[0m\n",
      "    /home/gustavo/.local/lib/python3.6/site-packages/en_core_web_sm -->\n",
      "    /home/gustavo/.local/lib/python3.6/site-packages/spacy/data/en\n",
      "\n",
      "    You can now load the model via spacy.load('en')\n",
      "\n"
     ]
    }
   ],
   "source": [
    "from chatterbot import ChatBot\n",
    "import spacy \n",
    "#spacy.cli.download(\"en_core_web_sm\")\n",
    "spacy.cli.download(\"en\")\n",
    "#spacy.load('en_core_web_sm')\n",
    "spacy.load(\"en\")\n",
    "\n",
    "chatbot = ChatBot(\"Gustavo Candela\")"
   ]
  },
  {
   "cell_type": "markdown",
   "metadata": {},
   "source": [
    "### Entrenando el chatbot"
   ]
  },
  {
   "cell_type": "code",
   "execution_count": 3,
   "metadata": {},
   "outputs": [
    {
     "name": "stdout",
     "output_type": "stream",
     "text": [
      "List Trainer: [####################] 100%\n"
     ]
    }
   ],
   "source": [
    "from chatterbot.trainers import ListTrainer\n",
    "\n",
    "conversation = [\n",
    "    \"Hello\",\n",
    "    \"Hi there!\",\n",
    "    \"How are you doing?\",\n",
    "    \"I'm doing great.\",\n",
    "    \"That is good to hear\",\n",
    "    \"Thank you.\",\n",
    "    \"You're welcome.\"\n",
    "]\n",
    "\n",
    "trainer = ListTrainer(chatbot)\n",
    "\n",
    "trainer.train(conversation)"
   ]
  },
  {
   "cell_type": "markdown",
   "metadata": {},
   "source": [
    "### Respuesta"
   ]
  },
  {
   "cell_type": "code",
   "execution_count": 4,
   "metadata": {},
   "outputs": [
    {
     "name": "stdout",
     "output_type": "stream",
     "text": [
      "Hi there!\n"
     ]
    }
   ],
   "source": [
    "response = chatbot.get_response(\"Hello!\")\n",
    "print(response)"
   ]
  },
  {
   "cell_type": "markdown",
   "metadata": {},
   "source": [
    "### Utilizar un adaptador de base de datos\n",
    "\n",
    "https://chatterbot.readthedocs.io/en/stable/tutorial.html#getting-help"
   ]
  },
  {
   "cell_type": "code",
   "execution_count": 5,
   "metadata": {},
   "outputs": [],
   "source": [
    "dbbot = ChatBot(\n",
    "    'Norman',\n",
    "    storage_adapter='chatterbot.storage.SQLStorageAdapter',\n",
    "    database_uri='sqlite:///database.sqlite3'\n",
    ")"
   ]
  },
  {
   "cell_type": "markdown",
   "metadata": {},
   "source": [
    "### Entrenamos dbbot"
   ]
  },
  {
   "cell_type": "code",
   "execution_count": 6,
   "metadata": {},
   "outputs": [
    {
     "name": "stdout",
     "output_type": "stream",
     "text": [
      "List Trainer: [####################] 100%\n"
     ]
    }
   ],
   "source": [
    "conversation = [\n",
    "    \"Hello\",\n",
    "    \"Hi there!\",\n",
    "    \"How are you doing?\",\n",
    "    \"I'm doing great.\",\n",
    "    \"That is good to hear\",\n",
    "    \"Thank you.\",\n",
    "    \"You're welcome.\"\n",
    "]\n",
    "\n",
    "trainer = ListTrainer(dbbot)\n",
    "\n",
    "trainer.train(conversation)"
   ]
  },
  {
   "cell_type": "markdown",
   "metadata": {},
   "source": [
    "## Tras entrenar botdb podemos consultar a la base de datos:"
   ]
  },
  {
   "cell_type": "code",
   "execution_count": 7,
   "metadata": {},
   "outputs": [
    {
     "name": "stdout",
     "output_type": "stream",
     "text": [
      "[('tag',), ('statement',), ('tag_association',)]\n",
      "[(1, 'Hello', 'hello', 'training', '2021-10-17 11:32:32.839219', None, '', ''), (2, 'Hi there!', 'INTJ:there', 'training', '2021-10-17 11:32:32.879364', 'Hello', 'hello', ''), (3, 'How are you doing?', 'ADV:be VERB:-pron- PRON:do', 'training', '2021-10-17 11:32:32.900435', 'Hi there!', 'INTJ:there', ''), (4, \"I'm doing great.\", 'PRON:great', 'training', '2021-10-17 11:32:32.923041', 'How are you doing?', 'ADV:be VERB:-pron- PRON:do', ''), (5, 'That is good to hear', 'DET:good ADJ:hear', 'training', '2021-10-17 11:32:32.943188', \"I'm doing great.\", 'PRON:great', ''), (6, 'Thank you.', 'VERB:-pron-', 'training', '2021-10-17 11:32:32.962156', 'That is good to hear', 'DET:good ADJ:hear', ''), (7, \"You're welcome.\", 'PRON:welcome', 'training', '2021-10-17 11:32:32.981413', 'Thank you.', 'VERB:-pron-', '')]\n"
     ]
    }
   ],
   "source": [
    "import sqlite3\n",
    "con = sqlite3.connect('database.sqlite3')\n",
    "cursor = con.cursor()\n",
    "cursor.execute(\"SELECT name FROM sqlite_master WHERE type='table';\")\n",
    "print(cursor.fetchall())\n",
    "\n",
    "cursor = con.cursor()\n",
    "cursor.execute(\"SELECT * FROM statement;\")\n",
    "print(cursor.fetchall())"
   ]
  },
  {
   "cell_type": "markdown",
   "metadata": {},
   "source": [
    "### También podemos utilizar modelos entrenados que se encuentran disponibles para su uso"
   ]
  },
  {
   "cell_type": "code",
   "execution_count": 8,
   "metadata": {},
   "outputs": [],
   "source": [
    "bot = ChatBot(\n",
    "    'Norman',\n",
    "    storage_adapter='chatterbot.storage.SQLStorageAdapter',\n",
    "    logic_adapters=[\n",
    "        'chatterbot.logic.MathematicalEvaluation',\n",
    "        'chatterbot.logic.TimeLogicAdapter'\n",
    "    ],\n",
    "    database_uri='sqlite:///database.sqlite3'\n",
    ")"
   ]
  },
  {
   "cell_type": "code",
   "execution_count": 9,
   "metadata": {},
   "outputs": [
    {
     "name": "stdout",
     "output_type": "stream",
     "text": [
      "The current time is 11:33 AM\n",
      "1 plus 1 = 2\n"
     ]
    }
   ],
   "source": [
    "bot_input = bot.get_response(\"What time is it?\")\n",
    "print(bot_input)\n",
    "bot_input = bot.get_response(\"1 plus 1?\")\n",
    "print(bot_input)"
   ]
  }
 ],
 "metadata": {
  "kernelspec": {
   "display_name": "Python 3",
   "language": "python",
   "name": "python3"
  },
  "language_info": {
   "codemirror_mode": {
    "name": "ipython",
    "version": 3
   },
   "file_extension": ".py",
   "mimetype": "text/x-python",
   "name": "python",
   "nbconvert_exporter": "python",
   "pygments_lexer": "ipython3",
   "version": "3.6.9"
  }
 },
 "nbformat": 4,
 "nbformat_minor": 4
}
