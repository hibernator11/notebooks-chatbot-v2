{
 "cells": [
  {
   "cell_type": "markdown",
   "id": "afc19441",
   "metadata": {},
   "source": [
    "## Introducción\n",
    "\n",
    "Este ejemplo permite consultar las obras de un autor a partir del servicio de SPARQL de Wikidata y la Biblioteca Virtual Miguel de Cervantes."
   ]
  },
  {
   "cell_type": "code",
   "execution_count": 8,
   "id": "b0a55e50",
   "metadata": {},
   "outputs": [
    {
     "name": "stdout",
     "output_type": "stream",
     "text": [
      "Collecting es-core-news-md==3.4.0\n",
      "  Downloading https://github.com/explosion/spacy-models/releases/download/es_core_news_md-3.4.0/es_core_news_md-3.4.0-py3-none-any.whl (42.3 MB)\n",
      "\u001b[2K     \u001b[38;2;114;156;31m━━━━━━━━━━━━━━━━━━━━━━━━━━━━━━━━━━━━━━━━\u001b[0m \u001b[32m42.3/42.3 MB\u001b[0m \u001b[31m18.5 MB/s\u001b[0m eta \u001b[36m0:00:00\u001b[0mm eta \u001b[36m0:00:01\u001b[0m0:01\u001b[0m:01\u001b[0m\n",
      "\u001b[?25hRequirement already satisfied: spacy<3.5.0,>=3.4.0 in /home/gustavo/anaconda3/lib/python3.9/site-packages (from es-core-news-md==3.4.0) (3.4.0)\n",
      "Requirement already satisfied: typer<0.5.0,>=0.3.0 in /home/gustavo/anaconda3/lib/python3.9/site-packages (from spacy<3.5.0,>=3.4.0->es-core-news-md==3.4.0) (0.4.2)\n",
      "Requirement already satisfied: pathy>=0.3.5 in /home/gustavo/anaconda3/lib/python3.9/site-packages (from spacy<3.5.0,>=3.4.0->es-core-news-md==3.4.0) (0.6.2)\n",
      "Requirement already satisfied: tqdm<5.0.0,>=4.38.0 in /home/gustavo/anaconda3/lib/python3.9/site-packages (from spacy<3.5.0,>=3.4.0->es-core-news-md==3.4.0) (4.64.1)\n",
      "Requirement already satisfied: cymem<2.1.0,>=2.0.2 in /home/gustavo/anaconda3/lib/python3.9/site-packages (from spacy<3.5.0,>=3.4.0->es-core-news-md==3.4.0) (2.0.6)\n",
      "Requirement already satisfied: spacy-loggers<2.0.0,>=1.0.0 in /home/gustavo/anaconda3/lib/python3.9/site-packages (from spacy<3.5.0,>=3.4.0->es-core-news-md==3.4.0) (1.0.3)\n",
      "Requirement already satisfied: langcodes<4.0.0,>=3.2.0 in /home/gustavo/anaconda3/lib/python3.9/site-packages (from spacy<3.5.0,>=3.4.0->es-core-news-md==3.4.0) (3.3.0)\n",
      "Requirement already satisfied: preshed<3.1.0,>=3.0.2 in /home/gustavo/anaconda3/lib/python3.9/site-packages (from spacy<3.5.0,>=3.4.0->es-core-news-md==3.4.0) (3.0.6)\n",
      "Requirement already satisfied: srsly<3.0.0,>=2.4.3 in /home/gustavo/anaconda3/lib/python3.9/site-packages (from spacy<3.5.0,>=3.4.0->es-core-news-md==3.4.0) (2.4.4)\n",
      "Requirement already satisfied: requests<3.0.0,>=2.13.0 in /home/gustavo/anaconda3/lib/python3.9/site-packages (from spacy<3.5.0,>=3.4.0->es-core-news-md==3.4.0) (2.28.1)\n",
      "Requirement already satisfied: jinja2 in /home/gustavo/anaconda3/lib/python3.9/site-packages (from spacy<3.5.0,>=3.4.0->es-core-news-md==3.4.0) (3.1.2)\n",
      "Requirement already satisfied: numpy>=1.15.0 in /home/gustavo/anaconda3/lib/python3.9/site-packages (from spacy<3.5.0,>=3.4.0->es-core-news-md==3.4.0) (1.21.5)\n",
      "Requirement already satisfied: wasabi<1.1.0,>=0.9.1 in /home/gustavo/anaconda3/lib/python3.9/site-packages (from spacy<3.5.0,>=3.4.0->es-core-news-md==3.4.0) (0.9.1)\n",
      "Requirement already satisfied: setuptools in /home/gustavo/anaconda3/lib/python3.9/site-packages (from spacy<3.5.0,>=3.4.0->es-core-news-md==3.4.0) (65.6.3)\n",
      "Requirement already satisfied: pydantic!=1.8,!=1.8.1,<1.10.0,>=1.7.4 in /home/gustavo/anaconda3/lib/python3.9/site-packages (from spacy<3.5.0,>=3.4.0->es-core-news-md==3.4.0) (1.9.1)\n",
      "Requirement already satisfied: catalogue<2.1.0,>=2.0.6 in /home/gustavo/anaconda3/lib/python3.9/site-packages (from spacy<3.5.0,>=3.4.0->es-core-news-md==3.4.0) (2.0.7)\n",
      "Requirement already satisfied: murmurhash<1.1.0,>=0.28.0 in /home/gustavo/anaconda3/lib/python3.9/site-packages (from spacy<3.5.0,>=3.4.0->es-core-news-md==3.4.0) (1.0.7)\n",
      "Requirement already satisfied: packaging>=20.0 in /home/gustavo/anaconda3/lib/python3.9/site-packages (from spacy<3.5.0,>=3.4.0->es-core-news-md==3.4.0) (22.0)\n",
      "Requirement already satisfied: spacy-legacy<3.1.0,>=3.0.9 in /home/gustavo/anaconda3/lib/python3.9/site-packages (from spacy<3.5.0,>=3.4.0->es-core-news-md==3.4.0) (3.0.9)\n",
      "Requirement already satisfied: thinc<8.2.0,>=8.1.0 in /home/gustavo/anaconda3/lib/python3.9/site-packages (from spacy<3.5.0,>=3.4.0->es-core-news-md==3.4.0) (8.1.0)\n",
      "Requirement already satisfied: smart-open<6.0.0,>=5.2.1 in /home/gustavo/anaconda3/lib/python3.9/site-packages (from pathy>=0.3.5->spacy<3.5.0,>=3.4.0->es-core-news-md==3.4.0) (5.2.1)\n",
      "Requirement already satisfied: typing-extensions>=3.7.4.3 in /home/gustavo/anaconda3/lib/python3.9/site-packages (from pydantic!=1.8,!=1.8.1,<1.10.0,>=1.7.4->spacy<3.5.0,>=3.4.0->es-core-news-md==3.4.0) (4.4.0)\n",
      "Requirement already satisfied: urllib3<1.27,>=1.21.1 in /home/gustavo/anaconda3/lib/python3.9/site-packages (from requests<3.0.0,>=2.13.0->spacy<3.5.0,>=3.4.0->es-core-news-md==3.4.0) (1.26.14)\n",
      "Requirement already satisfied: certifi>=2017.4.17 in /home/gustavo/anaconda3/lib/python3.9/site-packages (from requests<3.0.0,>=2.13.0->spacy<3.5.0,>=3.4.0->es-core-news-md==3.4.0) (2023.5.7)\n",
      "Requirement already satisfied: charset-normalizer<3,>=2 in /home/gustavo/anaconda3/lib/python3.9/site-packages (from requests<3.0.0,>=2.13.0->spacy<3.5.0,>=3.4.0->es-core-news-md==3.4.0) (2.0.4)\n",
      "Requirement already satisfied: idna<4,>=2.5 in /home/gustavo/anaconda3/lib/python3.9/site-packages (from requests<3.0.0,>=2.13.0->spacy<3.5.0,>=3.4.0->es-core-news-md==3.4.0) (3.4)\n",
      "Requirement already satisfied: blis<0.8.0,>=0.7.8 in /home/gustavo/anaconda3/lib/python3.9/site-packages (from thinc<8.2.0,>=8.1.0->spacy<3.5.0,>=3.4.0->es-core-news-md==3.4.0) (0.7.8)\n",
      "Requirement already satisfied: click<9.0.0,>=7.1.1 in /home/gustavo/anaconda3/lib/python3.9/site-packages (from typer<0.5.0,>=0.3.0->spacy<3.5.0,>=3.4.0->es-core-news-md==3.4.0) (8.0.4)\n",
      "Requirement already satisfied: MarkupSafe>=2.0 in /home/gustavo/anaconda3/lib/python3.9/site-packages (from jinja2->spacy<3.5.0,>=3.4.0->es-core-news-md==3.4.0) (2.1.1)\n",
      "\u001b[38;5;2m✔ Download and installation successful\u001b[0m\n",
      "You can now load the package via spacy.load('es_core_news_md')\n"
     ]
    }
   ],
   "source": [
    "import spacy\n",
    "import requests\n",
    "from SPARQLWrapper import SPARQLWrapper, JSON\n",
    "!python -m spacy download es_core_news_md\n",
    " \n",
    "nlp = spacy.load(\"es_core_news_md\")"
   ]
  },
  {
   "cell_type": "markdown",
   "id": "f1af62fc",
   "metadata": {},
   "source": [
    "## Función que realiza la llamada al api\n",
    "\n",
    "Utilizamos una sentencia federada que nos permite recuperar las obras de un autor a través de Wikidata."
   ]
  },
  {
   "cell_type": "code",
   "execution_count": 9,
   "id": "8a482246",
   "metadata": {},
   "outputs": [],
   "source": [
    "def get_works(writer_name):\n",
    "    \n",
    "    sparql = SPARQLWrapper(\n",
    "        \"https://query.wikidata.org/sparql\"\n",
    "    )\n",
    "    sparql.setReturnFormat(JSON)\n",
    "    \n",
    "    \n",
    "    query = \"\"\"\n",
    "    select ?workLabel\n",
    "    where {{ ?s wdt:P2799 ?id . \n",
    "       ?s wdt:P1559 ?name . \n",
    "       filter regex(?name, \"{0}\", \"i\")\n",
    "       BIND(uri(concat(\"https://data.cervantesvirtual.com/person/\", ?id)) as ?bvmcID) \n",
    "       SERVICE <http://data.cervantesvirtual.com/openrdf-sesame/repositories/data> {{\n",
    "          ?bvmcID <http://rdaregistry.info/Elements/a/authorOf> ?work .\n",
    "          ?work rdfs:label ?workLabel\n",
    "       }}\n",
    "    }} limit 10\n",
    "    \"\"\".format(writer_name)\n",
    "    \n",
    "    #print(query)\n",
    "    \n",
    "    sparql.setQuery(query)\n",
    "    \n",
    "    try:\n",
    "        ret = sparql.queryAndConvert()\n",
    "        \n",
    "        works = \"\"\n",
    "        for r in ret[\"results\"][\"bindings\"]:\n",
    "            #print('Título: ', r['workLabel']['value'])\n",
    "            works += r['workLabel']['value'] + \" \\n\"\n",
    "        return works\n",
    "    except Exception as e:\n",
    "        print(e)\n",
    "        return None"
   ]
  },
  {
   "cell_type": "markdown",
   "id": "2609074d",
   "metadata": {},
   "source": [
    "## Definimos el patrón para solicitar las obras\n",
    "\n",
    "Algunos ejemplos podrían ser:\n",
    "\n",
    "- Ejemplos de obras de Miguel de Cervantes\n",
    "- Ejemplos de obras de Lope de Vega"
   ]
  },
  {
   "cell_type": "code",
   "execution_count": 10,
   "id": "887eebf1",
   "metadata": {},
   "outputs": [
    {
     "name": "stdout",
     "output_type": "stream",
     "text": [
      "0.9607676012764527\n",
      "0.9428416385211742\n"
     ]
    }
   ],
   "source": [
    "intencion = nlp(\"Ejemplos de obras de autor\")\n",
    "\n",
    "print(intencion.similarity(nlp(\"Ejemplos de obras de Miguel de Cervantes\")))\n",
    "print(intencion.similarity(nlp(\"Ejemplos de obras de Lope de Vega\")))"
   ]
  },
  {
   "cell_type": "markdown",
   "id": "a4779b50",
   "metadata": {},
   "source": [
    "## Función que comprueba el tiempo"
   ]
  },
  {
   "cell_type": "code",
   "execution_count": 11,
   "id": "5a89c8f9",
   "metadata": {},
   "outputs": [],
   "source": [
    "def chatbot(query):\n",
    "    statement = nlp(query)\n",
    "    min_similarity = 0.75\n",
    " \n",
    "    if intencion.similarity(statement) >= min_similarity:\n",
    "     \n",
    "        for ent in statement.ents:\n",
    "            #print(ent.label_)\n",
    "            if ent.label_ == \"PER\": \n",
    "                writer = ent.text\n",
    "         \n",
    "                works = get_works(writer)\n",
    "                if works is not None:\n",
    "                    return \"Obras del escritor \" + writer +\": \" + works\n",
    "                else:\n",
    "                    return \"Algo no ha funcionado correctamente.\"\n",
    "            else:\n",
    "                return \"Introduce un nombre de escritor.\"\n",
    "       \n",
    "    else:\n",
    "        return \"Lo siento, no he entendido su pregunta. Por favor, vuelva a introducir otra pregunta.\""
   ]
  },
  {
   "cell_type": "markdown",
   "id": "1bcb3eb7",
   "metadata": {},
   "source": [
    "## Iniciamos el chatbot \n",
    "\n",
    "Ejecutamos tantas veces como queramos el chatbot."
   ]
  },
  {
   "cell_type": "code",
   "execution_count": 12,
   "id": "67964b26",
   "metadata": {},
   "outputs": [
    {
     "name": "stdout",
     "output_type": "stream",
     "text": [
      "Hola! Soy el chatbot de escritores.........\n",
      "Cómo puedo ayudarte ?\n",
      "Obras de Lope de Vega\n",
      "Obras del escritor Lope de Vega: Arcadia,  : prosas, y versos \n",
      "Las Serranas de la Vera \n",
      "Papeles varios \n",
      "La conquista de Mexico \n",
      "La batalla del honor \n",
      "La Conquista de Mexico : comedia famosa \n",
      "La conquista de México \n",
      "Coleccion de las obras sueltas : assi en prosa como en verso \n",
      "El Serafín humano : Comedia famosa \n",
      "Las mocedades de Bernardo del Carpio : Comedia Famosa \n",
      "\n"
     ]
    }
   ],
   "source": [
    "print(\"Hola! Soy el chatbot de escritores.........\")\n",
    "statement = input(\"Cómo puedo ayudarte ?\\n\")\n",
    " \n",
    "response = chatbot(statement)\n",
    "print(response)"
   ]
  },
  {
   "cell_type": "markdown",
   "id": "fe503d72",
   "metadata": {},
   "source": [
    "## Referencias\n",
    "\n",
    "https://github.com/hibernator11/hdh-cafe-con-2023\n",
    "https://www.askpython.com/python/examples/chatbot-in-python-using-spacy"
   ]
  }
 ],
 "metadata": {
  "kernelspec": {
   "display_name": "Python 3",
   "language": "python",
   "name": "python3"
  },
  "language_info": {
   "codemirror_mode": {
    "name": "ipython",
    "version": 3
   },
   "file_extension": ".py",
   "mimetype": "text/x-python",
   "name": "python",
   "nbconvert_exporter": "python",
   "pygments_lexer": "ipython3",
   "version": "3.9.12"
  }
 },
 "nbformat": 4,
 "nbformat_minor": 5
}
