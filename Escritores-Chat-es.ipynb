{
 "cells": [
  {
   "cell_type": "code",
   "execution_count": 4,
   "id": "dbbfd0f1",
   "metadata": {},
   "outputs": [
    {
     "name": "stdout",
     "output_type": "stream",
     "text": [
      "Collecting es-core-news-md==3.6.0\n",
      "  Downloading https://github.com/explosion/spacy-models/releases/download/es_core_news_md-3.6.0/es_core_news_md-3.6.0-py3-none-any.whl (42.3 MB)\n",
      "\u001b[2K     \u001b[38;2;114;156;31m━━━━━━━━━━━━━━━━━━━━━━━━━━━━━━━━━━━━━━━━\u001b[0m \u001b[32m42.3/42.3 MB\u001b[0m \u001b[31m23.4 MB/s\u001b[0m eta \u001b[36m0:00:00\u001b[0mm eta \u001b[36m0:00:01\u001b[0m[36m0:00:01\u001b[0m\n",
      "\u001b[?25hRequirement already satisfied: spacy<3.7.0,>=3.6.0 in /home/gustavo/anaconda3/lib/python3.11/site-packages (from es-core-news-md==3.6.0) (3.6.1)\n",
      "Requirement already satisfied: spacy-legacy<3.1.0,>=3.0.11 in /home/gustavo/anaconda3/lib/python3.11/site-packages (from spacy<3.7.0,>=3.6.0->es-core-news-md==3.6.0) (3.0.12)\n",
      "Requirement already satisfied: spacy-loggers<2.0.0,>=1.0.0 in /home/gustavo/anaconda3/lib/python3.11/site-packages (from spacy<3.7.0,>=3.6.0->es-core-news-md==3.6.0) (1.0.5)\n",
      "Requirement already satisfied: murmurhash<1.1.0,>=0.28.0 in /home/gustavo/anaconda3/lib/python3.11/site-packages (from spacy<3.7.0,>=3.6.0->es-core-news-md==3.6.0) (1.0.10)\n",
      "Requirement already satisfied: cymem<2.1.0,>=2.0.2 in /home/gustavo/anaconda3/lib/python3.11/site-packages (from spacy<3.7.0,>=3.6.0->es-core-news-md==3.6.0) (2.0.8)\n",
      "Requirement already satisfied: preshed<3.1.0,>=3.0.2 in /home/gustavo/anaconda3/lib/python3.11/site-packages (from spacy<3.7.0,>=3.6.0->es-core-news-md==3.6.0) (3.0.9)\n",
      "Requirement already satisfied: thinc<8.2.0,>=8.1.8 in /home/gustavo/anaconda3/lib/python3.11/site-packages (from spacy<3.7.0,>=3.6.0->es-core-news-md==3.6.0) (8.1.12)\n",
      "Requirement already satisfied: wasabi<1.2.0,>=0.9.1 in /home/gustavo/anaconda3/lib/python3.11/site-packages (from spacy<3.7.0,>=3.6.0->es-core-news-md==3.6.0) (1.1.2)\n",
      "Requirement already satisfied: srsly<3.0.0,>=2.4.3 in /home/gustavo/anaconda3/lib/python3.11/site-packages (from spacy<3.7.0,>=3.6.0->es-core-news-md==3.6.0) (2.4.8)\n",
      "Requirement already satisfied: catalogue<2.1.0,>=2.0.6 in /home/gustavo/anaconda3/lib/python3.11/site-packages (from spacy<3.7.0,>=3.6.0->es-core-news-md==3.6.0) (2.0.10)\n",
      "Requirement already satisfied: typer<0.10.0,>=0.3.0 in /home/gustavo/anaconda3/lib/python3.11/site-packages (from spacy<3.7.0,>=3.6.0->es-core-news-md==3.6.0) (0.9.0)\n",
      "Requirement already satisfied: pathy>=0.10.0 in /home/gustavo/anaconda3/lib/python3.11/site-packages (from spacy<3.7.0,>=3.6.0->es-core-news-md==3.6.0) (0.10.2)\n",
      "Requirement already satisfied: smart-open<7.0.0,>=5.2.1 in /home/gustavo/anaconda3/lib/python3.11/site-packages (from spacy<3.7.0,>=3.6.0->es-core-news-md==3.6.0) (5.2.1)\n",
      "Requirement already satisfied: tqdm<5.0.0,>=4.38.0 in /home/gustavo/anaconda3/lib/python3.11/site-packages (from spacy<3.7.0,>=3.6.0->es-core-news-md==3.6.0) (4.65.0)\n",
      "Requirement already satisfied: numpy>=1.15.0 in /home/gustavo/anaconda3/lib/python3.11/site-packages (from spacy<3.7.0,>=3.6.0->es-core-news-md==3.6.0) (1.24.3)\n",
      "Requirement already satisfied: requests<3.0.0,>=2.13.0 in /home/gustavo/anaconda3/lib/python3.11/site-packages (from spacy<3.7.0,>=3.6.0->es-core-news-md==3.6.0) (2.31.0)\n",
      "Requirement already satisfied: pydantic!=1.8,!=1.8.1,<3.0.0,>=1.7.4 in /home/gustavo/anaconda3/lib/python3.11/site-packages (from spacy<3.7.0,>=3.6.0->es-core-news-md==3.6.0) (1.10.12)\n",
      "Requirement already satisfied: jinja2 in /home/gustavo/anaconda3/lib/python3.11/site-packages (from spacy<3.7.0,>=3.6.0->es-core-news-md==3.6.0) (3.1.2)\n",
      "Requirement already satisfied: setuptools in /home/gustavo/anaconda3/lib/python3.11/site-packages (from spacy<3.7.0,>=3.6.0->es-core-news-md==3.6.0) (68.0.0)\n",
      "Requirement already satisfied: packaging>=20.0 in /home/gustavo/anaconda3/lib/python3.11/site-packages (from spacy<3.7.0,>=3.6.0->es-core-news-md==3.6.0) (23.0)\n",
      "Requirement already satisfied: langcodes<4.0.0,>=3.2.0 in /home/gustavo/anaconda3/lib/python3.11/site-packages (from spacy<3.7.0,>=3.6.0->es-core-news-md==3.6.0) (3.3.0)\n",
      "Requirement already satisfied: typing-extensions>=4.2.0 in /home/gustavo/anaconda3/lib/python3.11/site-packages (from pydantic!=1.8,!=1.8.1,<3.0.0,>=1.7.4->spacy<3.7.0,>=3.6.0->es-core-news-md==3.6.0) (4.7.1)\n",
      "Requirement already satisfied: charset-normalizer<4,>=2 in /home/gustavo/anaconda3/lib/python3.11/site-packages (from requests<3.0.0,>=2.13.0->spacy<3.7.0,>=3.6.0->es-core-news-md==3.6.0) (2.0.4)\n",
      "Requirement already satisfied: idna<4,>=2.5 in /home/gustavo/anaconda3/lib/python3.11/site-packages (from requests<3.0.0,>=2.13.0->spacy<3.7.0,>=3.6.0->es-core-news-md==3.6.0) (3.4)\n",
      "Requirement already satisfied: urllib3<3,>=1.21.1 in /home/gustavo/anaconda3/lib/python3.11/site-packages (from requests<3.0.0,>=2.13.0->spacy<3.7.0,>=3.6.0->es-core-news-md==3.6.0) (1.26.16)\n",
      "Requirement already satisfied: certifi>=2017.4.17 in /home/gustavo/anaconda3/lib/python3.11/site-packages (from requests<3.0.0,>=2.13.0->spacy<3.7.0,>=3.6.0->es-core-news-md==3.6.0) (2023.7.22)\n",
      "Requirement already satisfied: blis<0.8.0,>=0.7.8 in /home/gustavo/anaconda3/lib/python3.11/site-packages (from thinc<8.2.0,>=8.1.8->spacy<3.7.0,>=3.6.0->es-core-news-md==3.6.0) (0.7.11)\n",
      "Requirement already satisfied: confection<1.0.0,>=0.0.1 in /home/gustavo/anaconda3/lib/python3.11/site-packages (from thinc<8.2.0,>=8.1.8->spacy<3.7.0,>=3.6.0->es-core-news-md==3.6.0) (0.1.3)\n",
      "Requirement already satisfied: click<9.0.0,>=7.1.1 in /home/gustavo/anaconda3/lib/python3.11/site-packages (from typer<0.10.0,>=0.3.0->spacy<3.7.0,>=3.6.0->es-core-news-md==3.6.0) (8.0.4)\n",
      "Requirement already satisfied: MarkupSafe>=2.0 in /home/gustavo/anaconda3/lib/python3.11/site-packages (from jinja2->spacy<3.7.0,>=3.6.0->es-core-news-md==3.6.0) (2.1.1)\n",
      "\u001b[38;5;2m✔ Download and installation successful\u001b[0m\n",
      "You can now load the package via spacy.load('es_core_news_md')\n"
     ]
    }
   ],
   "source": [
    "import spacy\n",
    "import requests\n",
    "!python -m spacy download es_core_news_md\n",
    " \n",
    "nlp = spacy.load(\"es_core_news_md\")"
   ]
  },
  {
   "cell_type": "markdown",
   "id": "814d5458",
   "metadata": {},
   "source": [
    "## Insertamos nuestra key del api"
   ]
  },
  {
   "cell_type": "code",
   "execution_count": 1,
   "id": "51531f2f",
   "metadata": {},
   "outputs": [],
   "source": [
    "api_key = \"66f690904c3f75b3e102e75993bdc5a1\""
   ]
  },
  {
   "cell_type": "markdown",
   "id": "f1af62fc",
   "metadata": {},
   "source": [
    "## Función que realiza la llamada al api"
   ]
  },
  {
   "cell_type": "code",
   "execution_count": 27,
   "id": "5bc9b078",
   "metadata": {},
   "outputs": [],
   "source": [
    "from SPARQLWrapper import SPARQLWrapper, JSON"
   ]
  },
  {
   "cell_type": "code",
   "execution_count": 46,
   "id": "8a482246",
   "metadata": {},
   "outputs": [],
   "source": [
    "def get_works(writer_name):\n",
    "    \n",
    "    sparql = SPARQLWrapper(\n",
    "        \"https://query.wikidata.org/sparql\"\n",
    "    )\n",
    "    sparql.setReturnFormat(JSON)\n",
    "    \n",
    "    \n",
    "    query = \"\"\"\n",
    "    select ?workLabel\n",
    "    where {{ ?s wdt:P2799 ?id . \n",
    "       ?s wdt:P1559 ?name . \n",
    "       filter regex(?name, \"{0}\", \"i\")\n",
    "       BIND(uri(concat(\"https://data.cervantesvirtual.com/person/\", ?id)) as ?bvmcID) \n",
    "       SERVICE <http://data.cervantesvirtual.com/openrdf-sesame/repositories/data> {{\n",
    "          ?bvmcID <http://rdaregistry.info/Elements/a/authorOf> ?work .\n",
    "          ?work rdfs:label ?workLabel\n",
    "       }}\n",
    "    }} limit 10\n",
    "    \"\"\".format(writer_name)\n",
    "    \n",
    "    #print(query)\n",
    "    \n",
    "    sparql.setQuery(query)\n",
    "    \n",
    "    try:\n",
    "        ret = sparql.queryAndConvert()\n",
    "        \n",
    "        works = \"\"\n",
    "        for r in ret[\"results\"][\"bindings\"]:\n",
    "            #print('Título: ', r['workLabel']['value'])\n",
    "            works += r['workLabel']['value'] + \" \\n\"\n",
    "        return works\n",
    "    except Exception as e:\n",
    "        print(e)\n",
    "        return None"
   ]
  },
  {
   "cell_type": "markdown",
   "id": "2609074d",
   "metadata": {},
   "source": [
    "## Definimos el patrón para solicitar el tiempo\n",
    "\n",
    "Algunos ejemplos podrían ser:\n",
    "\n",
    "- El tiempo en Alicante\n",
    "- El tiempo en Madrid"
   ]
  },
  {
   "cell_type": "code",
   "execution_count": 47,
   "id": "887eebf1",
   "metadata": {},
   "outputs": [
    {
     "name": "stdout",
     "output_type": "stream",
     "text": [
      "0.9607676012764527\n",
      "0.9428416385211742\n"
     ]
    }
   ],
   "source": [
    "weather = nlp(\"Ejemplos de obras de autor\")\n",
    "\n",
    "print(weather.similarity(nlp(\"Ejemplos de obras de Miguel de Cervantes\")))\n",
    "print(weather.similarity(nlp(\"Ejemplos de obras de Lope de Vega\")))"
   ]
  },
  {
   "cell_type": "markdown",
   "id": "a4779b50",
   "metadata": {},
   "source": [
    "## Función que comprueba el tiempo"
   ]
  },
  {
   "cell_type": "code",
   "execution_count": 48,
   "id": "5a89c8f9",
   "metadata": {},
   "outputs": [],
   "source": [
    "def chatbot(query):\n",
    "    statement = nlp(query)\n",
    "    min_similarity = 0.75\n",
    " \n",
    "    if weather.similarity(statement) >= min_similarity:\n",
    "     \n",
    "        for ent in statement.ents:\n",
    "            #print(ent.label_)\n",
    "            if ent.label_ == \"PER\": \n",
    "                writer = ent.text\n",
    "         \n",
    "                works = get_works(writer)\n",
    "                if works is not None:\n",
    "                    return \"Obras del escritor \" + writer +\": \" + works\n",
    "                else:\n",
    "                    return \"Something went wrong.\"\n",
    "            else:\n",
    "                return \"Introduce un nombre de escritor.\"\n",
    "       \n",
    "    else:\n",
    "        return \"Lo siento, no he entendido su pregunta. Por favor, vuelva a introducir otra pregunta.\""
   ]
  },
  {
   "cell_type": "markdown",
   "id": "1bcb3eb7",
   "metadata": {},
   "source": [
    "## Iniciamos el chatbot "
   ]
  },
  {
   "cell_type": "code",
   "execution_count": 50,
   "id": "67964b26",
   "metadata": {},
   "outputs": [
    {
     "name": "stdout",
     "output_type": "stream",
     "text": [
      "Hola! Soy el chatbot de escritores.........\n",
      "Cómo puedo ayudarte ?\n",
      "Ejemplos de obras de Miguel de Cervantes\n",
      "\n",
      "    select ?workLabel\n",
      "    where { ?s wdt:P2799 ?id . \n",
      "       ?s wdt:P1559 ?name . \n",
      "       filter regex(?name, \"Miguel de Cervantes\", \"i\")\n",
      "       BIND(uri(concat(\"https://data.cervantesvirtual.com/person/\", ?id)) as ?bvmcID) \n",
      "       SERVICE <http://data.cervantesvirtual.com/openrdf-sesame/repositories/data> {\n",
      "          ?bvmcID <http://rdaregistry.info/Elements/a/authorOf> ?work .\n",
      "          ?work rdfs:label ?workLabel\n",
      "       }\n",
      "    } limit 10\n",
      "    \n",
      "Obras del escritor Miguel de Cervantes: Varias obras inéditas de Cervantes, sacadas de Códices de la Biblioteca Colombina \n",
      "Rinconete y Cortadillo \n",
      "El Quijote para todos \n",
      "Ocho entremeses de Miguel de Cervantes Saavedra \n",
      "El capitán Becerra vino a Sevilla a enseñar lo que habían de hacer los soldados, y a esto y a la entrada del duque de Medina en Cádiz hizo Cervantes este soneto \n",
      "El ingenioso hidalgo don Quixote de la Mancha \n",
      "Entremeses selectos : El juez de los divorcios, el Retablo de las Maravillas, Los dos habladores \n",
      "El ingenioso hidalgo Don Quijote de la Mancha / compuesto por Miguel de Cervantes Saavedra. \n",
      "Vida, y hechos del ingenioso cavallero D. Quixote de la Mancha \n",
      "Vida, y hechos del ingenioso cavallero D. Quixote de la Mancha \n",
      "\n"
     ]
    }
   ],
   "source": [
    "print(\"Hola! Soy el chatbot de escritores.........\")\n",
    "statement = input(\"Cómo puedo ayudarte ?\\n\")\n",
    " \n",
    "response = chatbot(statement)\n",
    "print(response)"
   ]
  },
  {
   "cell_type": "markdown",
   "id": "fe503d72",
   "metadata": {},
   "source": [
    "## Referencias\n",
    "\n",
    "https://www.askpython.com/python/examples/chatbot-in-python-using-spacy"
   ]
  }
 ],
 "metadata": {
  "kernelspec": {
   "display_name": "Python 3 (ipykernel)",
   "language": "python",
   "name": "python3"
  },
  "language_info": {
   "codemirror_mode": {
    "name": "ipython",
    "version": 3
   },
   "file_extension": ".py",
   "mimetype": "text/x-python",
   "name": "python",
   "nbconvert_exporter": "python",
   "pygments_lexer": "ipython3",
   "version": "3.11.4"
  }
 },
 "nbformat": 4,
 "nbformat_minor": 5
}
