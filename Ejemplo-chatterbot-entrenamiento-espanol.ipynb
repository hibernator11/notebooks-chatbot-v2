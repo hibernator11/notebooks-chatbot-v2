{
 "cells": [
  {
   "cell_type": "markdown",
   "metadata": {},
   "source": [
    "## ChatterBot en español\n",
    "\n",
    "ChatterBot es una librería para la creación de chatbots de forma sencilla\n",
    "https://pypi.org/project/ChatterBot/"
   ]
  },
  {
   "cell_type": "markdown",
   "metadata": {},
   "source": [
    "### Crear un nuevo chatbot"
   ]
  },
  {
   "cell_type": "code",
   "execution_count": 1,
   "metadata": {},
   "outputs": [],
   "source": [
    "from chatterbot import ChatBot\n",
    "import spacy \n",
    "#spacy.cli.download(\"en_core_web_sm\")\n",
    "spacy.cli.download(\"en\")\n",
    "#spacy.load('en_core_web_sm')\n",
    "spacy.load(\"en\")\n",
    "chatbot = ChatBot(\"Gustavo Candela\")"
   ]
  },
  {
   "cell_type": "markdown",
   "metadata": {},
   "source": [
    "### Entrenamiento en español"
   ]
  },
  {
   "cell_type": "code",
   "execution_count": 7,
   "metadata": {},
   "outputs": [
    {
     "name": "stdout",
     "output_type": "stream",
     "text": [
      "List Trainer: [####################] 100%\n",
      "Training conversations.yml: [####################] 100%\n",
      "Training conversations.yml: [####################] 100%\n",
      "Training greetings.yml: [####################] 100%\n",
      "Training trivia.yml: [####################] 100%\n"
     ]
    }
   ],
   "source": [
    "from chatterbot.trainers import ListTrainer\n",
    "\n",
    "from chatterbot.trainers import ChatterBotCorpusTrainer\n",
    "\n",
    "trainer = ListTrainer(chatbot)\n",
    "\n",
    "trainer.train([\n",
    "    'Hola',\n",
    "    '¿Qué tal?',\n",
    "    'Muy bien',\n",
    "    '¿Qué tienes pensado hacer ahora?',\n",
    "    'Aprender a programar un chatbot en python',\n",
    "    'Estupendo'\n",
    "])\n",
    "\n",
    "trainerCorpus = ChatterBotCorpusTrainer(chatbot)\n",
    " \n",
    "trainerCorpus.train(\"chatterbot.corpus.spanish.conversations\")\n",
    " \n",
    "trainerCorpus.train(\"chatterbot.corpus.spanish\")"
   ]
  },
  {
   "cell_type": "markdown",
   "metadata": {},
   "source": [
    "### Vamos a comprobar el funcionamiento\n",
    "\n",
    "Aquí podéis consultar el corpus:\n",
    "https://github.com/gunthercox/chatterbot-corpus/blob/master/chatterbot_corpus/data/spanish/trivia.yml"
   ]
  },
  {
   "cell_type": "code",
   "execution_count": 9,
   "metadata": {},
   "outputs": [
    {
     "name": "stdout",
     "output_type": "stream",
     "text": [
      "¿Qué tal?\n",
      "Richard Nixon\n",
      "Sputnik 1\n"
     ]
    }
   ],
   "source": [
    "response = chatbot.get_response(\"Hola\")\n",
    "print(response)\n",
    "\n",
    "response = chatbot.get_response(\"¿Quién fue el presidente número 37 de los Estados Unidos?\")\n",
    "print(response)\n",
    "\n",
    "response = chatbot.get_response(\"¿Cuál fue el nombre del primer satélite artificial de la Tierra?\")\n",
    "print(response)"
   ]
  },
  {
   "cell_type": "markdown",
   "metadata": {},
   "source": [
    "### Podemos exportar el proceso de entrenamiento"
   ]
  },
  {
   "cell_type": "code",
   "execution_count": 10,
   "metadata": {},
   "outputs": [],
   "source": [
    "# Now we can export the data to a file\n",
    "trainer.export_for_training('./my_export.json')"
   ]
  }
 ],
 "metadata": {
  "kernelspec": {
   "display_name": "Python 3",
   "language": "python",
   "name": "python3"
  },
  "language_info": {
   "codemirror_mode": {
    "name": "ipython",
    "version": 3
   },
   "file_extension": ".py",
   "mimetype": "text/x-python",
   "name": "python",
   "nbconvert_exporter": "python",
   "pygments_lexer": "ipython3",
   "version": "3.6.9"
  }
 },
 "nbformat": 4,
 "nbformat_minor": 4
}
