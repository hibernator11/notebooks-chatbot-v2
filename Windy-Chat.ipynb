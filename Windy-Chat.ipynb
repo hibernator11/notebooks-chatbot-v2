{
 "cells": [
  {
   "cell_type": "raw",
   "id": "0a06252f",
   "metadata": {},
   "source": [
    "## Introducción\n",
    "\n",
    "Este ejemplo permite consultar el tiempo utilizando un API en idioma español. Se apoya en la librería spacy para calcular la similitud de la consulta del usuario."
   ]
  },
  {
   "cell_type": "code",
   "execution_count": 1,
   "id": "dbbfd0f1",
   "metadata": {},
   "outputs": [
    {
     "name": "stdout",
     "output_type": "stream",
     "text": [
      "Collecting en-core-web-md==3.4.1\n",
      "  Downloading https://github.com/explosion/spacy-models/releases/download/en_core_web_md-3.4.1/en_core_web_md-3.4.1-py3-none-any.whl (42.8 MB)\n",
      "\u001b[2K     \u001b[38;2;114;156;31m━━━━━━━━━━━━━━━━━━━━━━━━━━━━━━━━━━━━━━━━\u001b[0m \u001b[32m42.8/42.8 MB\u001b[0m \u001b[31m12.6 MB/s\u001b[0m eta \u001b[36m0:00:00\u001b[0mm eta \u001b[36m0:00:01\u001b[0m[36m0:00:01\u001b[0m\n",
      "\u001b[?25hRequirement already satisfied: spacy<3.5.0,>=3.4.0 in /home/gustavo/anaconda3/lib/python3.9/site-packages (from en-core-web-md==3.4.1) (3.4.0)\n",
      "Requirement already satisfied: thinc<8.2.0,>=8.1.0 in /home/gustavo/anaconda3/lib/python3.9/site-packages (from spacy<3.5.0,>=3.4.0->en-core-web-md==3.4.1) (8.1.0)\n",
      "Requirement already satisfied: preshed<3.1.0,>=3.0.2 in /home/gustavo/anaconda3/lib/python3.9/site-packages (from spacy<3.5.0,>=3.4.0->en-core-web-md==3.4.1) (3.0.6)\n",
      "Requirement already satisfied: requests<3.0.0,>=2.13.0 in /home/gustavo/anaconda3/lib/python3.9/site-packages (from spacy<3.5.0,>=3.4.0->en-core-web-md==3.4.1) (2.28.1)\n",
      "Requirement already satisfied: typer<0.5.0,>=0.3.0 in /home/gustavo/anaconda3/lib/python3.9/site-packages (from spacy<3.5.0,>=3.4.0->en-core-web-md==3.4.1) (0.4.2)\n",
      "Requirement already satisfied: pathy>=0.3.5 in /home/gustavo/anaconda3/lib/python3.9/site-packages (from spacy<3.5.0,>=3.4.0->en-core-web-md==3.4.1) (0.6.2)\n",
      "Requirement already satisfied: spacy-loggers<2.0.0,>=1.0.0 in /home/gustavo/anaconda3/lib/python3.9/site-packages (from spacy<3.5.0,>=3.4.0->en-core-web-md==3.4.1) (1.0.3)\n",
      "Requirement already satisfied: jinja2 in /home/gustavo/anaconda3/lib/python3.9/site-packages (from spacy<3.5.0,>=3.4.0->en-core-web-md==3.4.1) (3.1.2)\n",
      "Requirement already satisfied: catalogue<2.1.0,>=2.0.6 in /home/gustavo/anaconda3/lib/python3.9/site-packages (from spacy<3.5.0,>=3.4.0->en-core-web-md==3.4.1) (2.0.7)\n",
      "Requirement already satisfied: pydantic!=1.8,!=1.8.1,<1.10.0,>=1.7.4 in /home/gustavo/anaconda3/lib/python3.9/site-packages (from spacy<3.5.0,>=3.4.0->en-core-web-md==3.4.1) (1.9.1)\n",
      "Requirement already satisfied: cymem<2.1.0,>=2.0.2 in /home/gustavo/anaconda3/lib/python3.9/site-packages (from spacy<3.5.0,>=3.4.0->en-core-web-md==3.4.1) (2.0.6)\n",
      "Requirement already satisfied: wasabi<1.1.0,>=0.9.1 in /home/gustavo/anaconda3/lib/python3.9/site-packages (from spacy<3.5.0,>=3.4.0->en-core-web-md==3.4.1) (0.9.1)\n",
      "Requirement already satisfied: srsly<3.0.0,>=2.4.3 in /home/gustavo/anaconda3/lib/python3.9/site-packages (from spacy<3.5.0,>=3.4.0->en-core-web-md==3.4.1) (2.4.4)\n",
      "Requirement already satisfied: spacy-legacy<3.1.0,>=3.0.9 in /home/gustavo/anaconda3/lib/python3.9/site-packages (from spacy<3.5.0,>=3.4.0->en-core-web-md==3.4.1) (3.0.9)\n",
      "Requirement already satisfied: packaging>=20.0 in /home/gustavo/anaconda3/lib/python3.9/site-packages (from spacy<3.5.0,>=3.4.0->en-core-web-md==3.4.1) (22.0)\n",
      "Requirement already satisfied: murmurhash<1.1.0,>=0.28.0 in /home/gustavo/anaconda3/lib/python3.9/site-packages (from spacy<3.5.0,>=3.4.0->en-core-web-md==3.4.1) (1.0.7)\n",
      "Requirement already satisfied: tqdm<5.0.0,>=4.38.0 in /home/gustavo/anaconda3/lib/python3.9/site-packages (from spacy<3.5.0,>=3.4.0->en-core-web-md==3.4.1) (4.64.1)\n",
      "Requirement already satisfied: setuptools in /home/gustavo/anaconda3/lib/python3.9/site-packages (from spacy<3.5.0,>=3.4.0->en-core-web-md==3.4.1) (65.6.3)\n",
      "Requirement already satisfied: numpy>=1.15.0 in /home/gustavo/anaconda3/lib/python3.9/site-packages (from spacy<3.5.0,>=3.4.0->en-core-web-md==3.4.1) (1.21.5)\n",
      "Requirement already satisfied: langcodes<4.0.0,>=3.2.0 in /home/gustavo/anaconda3/lib/python3.9/site-packages (from spacy<3.5.0,>=3.4.0->en-core-web-md==3.4.1) (3.3.0)\n",
      "Requirement already satisfied: smart-open<6.0.0,>=5.2.1 in /home/gustavo/anaconda3/lib/python3.9/site-packages (from pathy>=0.3.5->spacy<3.5.0,>=3.4.0->en-core-web-md==3.4.1) (5.2.1)\n",
      "Requirement already satisfied: typing-extensions>=3.7.4.3 in /home/gustavo/anaconda3/lib/python3.9/site-packages (from pydantic!=1.8,!=1.8.1,<1.10.0,>=1.7.4->spacy<3.5.0,>=3.4.0->en-core-web-md==3.4.1) (4.4.0)\n",
      "Requirement already satisfied: charset-normalizer<3,>=2 in /home/gustavo/anaconda3/lib/python3.9/site-packages (from requests<3.0.0,>=2.13.0->spacy<3.5.0,>=3.4.0->en-core-web-md==3.4.1) (2.0.4)\n",
      "Requirement already satisfied: idna<4,>=2.5 in /home/gustavo/anaconda3/lib/python3.9/site-packages (from requests<3.0.0,>=2.13.0->spacy<3.5.0,>=3.4.0->en-core-web-md==3.4.1) (3.4)\n",
      "Requirement already satisfied: certifi>=2017.4.17 in /home/gustavo/anaconda3/lib/python3.9/site-packages (from requests<3.0.0,>=2.13.0->spacy<3.5.0,>=3.4.0->en-core-web-md==3.4.1) (2023.5.7)\n",
      "Requirement already satisfied: urllib3<1.27,>=1.21.1 in /home/gustavo/anaconda3/lib/python3.9/site-packages (from requests<3.0.0,>=2.13.0->spacy<3.5.0,>=3.4.0->en-core-web-md==3.4.1) (1.26.14)\n",
      "Requirement already satisfied: blis<0.8.0,>=0.7.8 in /home/gustavo/anaconda3/lib/python3.9/site-packages (from thinc<8.2.0,>=8.1.0->spacy<3.5.0,>=3.4.0->en-core-web-md==3.4.1) (0.7.8)\n",
      "Requirement already satisfied: click<9.0.0,>=7.1.1 in /home/gustavo/anaconda3/lib/python3.9/site-packages (from typer<0.5.0,>=0.3.0->spacy<3.5.0,>=3.4.0->en-core-web-md==3.4.1) (8.0.4)\n",
      "Requirement already satisfied: MarkupSafe>=2.0 in /home/gustavo/anaconda3/lib/python3.9/site-packages (from jinja2->spacy<3.5.0,>=3.4.0->en-core-web-md==3.4.1) (2.1.1)\n",
      "Installing collected packages: en-core-web-md\n",
      "Successfully installed en-core-web-md-3.4.1\n",
      "\u001b[38;5;2m✔ Download and installation successful\u001b[0m\n",
      "You can now load the package via spacy.load('en_core_web_md')\n"
     ]
    }
   ],
   "source": [
    "import spacy\n",
    "import requests\n",
    "!python -m spacy download en_core_web_md\n",
    " \n",
    "nlp = spacy.load(\"en_core_web_md\")"
   ]
  },
  {
   "cell_type": "markdown",
   "id": "f1af62fc",
   "metadata": {},
   "source": [
    "## Función que realiza la llamada al api\n",
    "\n",
    "Utilizamos el servicio http://api.openweathermap.org para consultar el tiempo a partir del nombre de una ciudad."
   ]
  },
  {
   "cell_type": "markdown",
   "id": "814d5458",
   "metadata": {},
   "source": [
    "### Insertamos nuestra key del api"
   ]
  },
  {
   "cell_type": "code",
   "execution_count": 2,
   "id": "51531f2f",
   "metadata": {},
   "outputs": [],
   "source": [
    "#api_key = \"66f690904c3f75b3e102e75993bdc5a1\""
   ]
  },
  {
   "cell_type": "code",
   "execution_count": 3,
   "id": "8a482246",
   "metadata": {},
   "outputs": [],
   "source": [
    "def get_weather(city_name):\n",
    "    api_url = \"http://api.openweathermap.org/data/2.5/weather?q={}&appid={}\".format(city_name, api_key)\n",
    " \n",
    "    response = requests.get(api_url)\n",
    "    response_dict = response.json()\n",
    " \n",
    "    weather = response_dict[\"weather\"][0][\"description\"]\n",
    " \n",
    "    if response.status_code == 200:\n",
    "        return weather\n",
    "    else:\n",
    "        print('[!] HTTP {0} calling [{1}]'.format(response.status_code, api_url))\n",
    "        return None"
   ]
  },
  {
   "cell_type": "markdown",
   "id": "2609074d",
   "metadata": {},
   "source": [
    "## Definimos el patrón para solicitar el tiempo\n",
    "\n",
    "Algunos ejemplos podrían ser:\n",
    "\n",
    "- Weather conditions in Alicante\n",
    "- Weather conditions in Madrid"
   ]
  },
  {
   "cell_type": "code",
   "execution_count": 16,
   "id": "887eebf1",
   "metadata": {},
   "outputs": [
    {
     "name": "stdout",
     "output_type": "stream",
     "text": [
      "0.9322947770940994\n",
      "0.09518664217966936\n",
      "0.8891195740185529\n"
     ]
    }
   ],
   "source": [
    "weather = nlp(\"Weather Conditions in city\")\n",
    "\n",
    "print(weather.similarity(nlp(\"Weather Conditions in Alicante\")))\n",
    "print(weather.similarity(nlp(\"El tiempo en Alicante\")))\n",
    "print(weather.similarity(nlp(\"Weather in Alicante\")))"
   ]
  },
  {
   "cell_type": "markdown",
   "id": "a4779b50",
   "metadata": {},
   "source": [
    "## Función que comprueba el tiempo\n",
    "\n",
    "Utilizamos la función similarity para comprobar la similitud con la intención e identificamos localizaciones en el texto."
   ]
  },
  {
   "cell_type": "code",
   "execution_count": 26,
   "id": "5a89c8f9",
   "metadata": {},
   "outputs": [],
   "source": [
    "def chatbot(query):\n",
    "    print(\"chatbot query:\", query)\n",
    "    statement = nlp(query)\n",
    "    print(\"chatbot statement:\", statement)\n",
    "    min_similarity = 0.75\n",
    " \n",
    "    if weather.similarity(statement) >= min_similarity:\n",
    "        print(\"ents:\", statement.ents)\n",
    "        for ent in statement.ents:\n",
    "            print(\"ent:\", ent)\n",
    "            if ent.label_ == \"GPE\": # GeoPolitical Entity\n",
    "                city = ent.text\n",
    "         \n",
    "                city_weather = get_weather(city)\n",
    "                if city_weather is not None:\n",
    "                    return \"In \" + city +\", the current weather is: \" + city_weather\n",
    "                else:\n",
    "                    return \"Something went wrong.\"\n",
    "            else:\n",
    "                return \"You need to tell me a city to check.\"\n",
    "       \n",
    "    else:\n",
    "        return \"Sorry I don't understand that. Please rephrase your statement.\""
   ]
  },
  {
   "cell_type": "markdown",
   "id": "1bcb3eb7",
   "metadata": {},
   "source": [
    "## Iniciamos el chatbot \n",
    "\n",
    "Ejecutamos tantas veces como queramos el chatbot."
   ]
  },
  {
   "cell_type": "code",
   "execution_count": 32,
   "id": "67964b26",
   "metadata": {},
   "outputs": [
    {
     "name": "stdout",
     "output_type": "stream",
     "text": [
      "Hi! I am Windy a weather bot.........\n",
      "How can I help you ?\n",
      "Weather conditions in Madrid\n",
      "chatbot query: Weather conditions in Madrid\n",
      "chatbot statement: Weather conditions in Madrid\n",
      "ents: (Madrid,)\n",
      "ent: Madrid\n",
      "In Madrid, the current weather is: clear sky\n"
     ]
    }
   ],
   "source": [
    "print(\"Hi! I am Windy a weather bot.........\")\n",
    "statement = input(\"How can I help you ?\\n\")\n",
    " \n",
    "response = chatbot(statement)\n",
    "print(response)"
   ]
  },
  {
   "cell_type": "markdown",
   "id": "fe503d72",
   "metadata": {},
   "source": [
    "## Referencias\n",
    "\n",
    "https://www.askpython.com/python/examples/chatbot-in-python-using-spacy"
   ]
  }
 ],
 "metadata": {
  "kernelspec": {
   "display_name": "Python 3",
   "language": "python",
   "name": "python3"
  },
  "language_info": {
   "codemirror_mode": {
    "name": "ipython",
    "version": 3
   },
   "file_extension": ".py",
   "mimetype": "text/x-python",
   "name": "python",
   "nbconvert_exporter": "python",
   "pygments_lexer": "ipython3",
   "version": "3.9.12"
  }
 },
 "nbformat": 4,
 "nbformat_minor": 5
}
